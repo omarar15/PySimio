{
 "cells": [
  {
   "cell_type": "code",
   "execution_count": 1,
   "metadata": {
    "collapsed": true
   },
   "outputs": [],
   "source": [
    "import numpy as np\n",
    "from pySimio import *"
   ]
  },
  {
   "cell_type": "code",
   "execution_count": 2,
   "metadata": {
    "collapsed": true
   },
   "outputs": [],
   "source": [
    "# number of people (per origin/destination type) to generate and arrival rate\n",
    "num_people = 20\n",
    "LAMBDA = 5"
   ]
  },
  {
   "cell_type": "code",
   "execution_count": 3,
   "metadata": {
    "collapsed": true
   },
   "outputs": [],
   "source": [
    "# assuming people are reasonable, only 6 possible origin/destination pairs exist\n",
    "WegE_ComE = list(np.cumsum(np.random.exponential(LAMBDA, num_people)))\n",
    "WegE_Ctown = list(np.cumsum(np.random.exponential(LAMBDA, num_people)))\n",
    "ComE_Ctown = list(np.cumsum(np.random.exponential(LAMBDA, num_people)))\n",
    "Ctown_ComW = list(np.cumsum(np.random.exponential(LAMBDA, num_people)))\n",
    "Ctown_WegW = list(np.cumsum(np.random.exponential(LAMBDA, num_people)))\n",
    "ComW_WegW = list(np.cumsum(np.random.exponential(LAMBDA, num_people)))"
   ]
  },
  {
   "cell_type": "code",
   "execution_count": 4,
   "metadata": {
    "collapsed": true
   },
   "outputs": [],
   "source": [
    "# create a BusStop object for each of the 6 bus stops\n",
    "TDOG = BusStop('TDOG Depot', {})\n",
    "WegE = BusStop('Wegmans-Eastbound', {'Commons-Eastbound':WegE_ComE, 'Collegetown':WegE_Ctown})\n",
    "WegW = BusStop('Wegmans-Westbound', {})\n",
    "ComE = BusStop('Commons-Eastbound', {'Collegetown':ComE_Ctown})\n",
    "ComW = BusStop('Commons-Westbound', {'Wegmans-Westbound':ComW_WegW})\n",
    "Ctown = BusStop('Collegetown', {'Commons-Westbound':Ctown_ComW, 'Wegmans-Westbound':Ctown_WegW})"
   ]
  },
  {
   "cell_type": "code",
   "execution_count": 5,
   "metadata": {
    "collapsed": true
   },
   "outputs": [],
   "source": [
    "# create a Route object for each of the 3 routes\n",
    "Route1 = Route([TDOG, WegE, ComE, Ctown, ComW, WegE, TDOG], [0.5, 2, 2, 2, 2, 0.5], 1)\n",
    "Route2 = Route([ComE, Ctown, ComW, ComE], [2, 2, 0.3], 2)\n",
    "Route3 = Route([TDOG, WegE, ComE, ComW, WegW, TDOG], [0.5, 2, 2, 2, 0.5], 3)"
   ]
  },
  {
   "cell_type": "code",
   "execution_count": 6,
   "metadata": {
    "collapsed": true
   },
   "outputs": [],
   "source": [
    "Bus1 = Bus(Route1)"
   ]
  },
  {
   "cell_type": "code",
   "execution_count": 8,
   "metadata": {
    "collapsed": true
   },
   "outputs": [],
   "source": [
    "Ithaca = Map([Route1, Route2, Route2], [Bus1], [TDOG, WegE, WegW, ComE, ComW, Ctown])"
   ]
  },
  {
   "cell_type": "code",
   "execution_count": null,
   "metadata": {
    "collapsed": true
   },
   "outputs": [],
   "source": []
  }
 ],
 "metadata": {
  "kernelspec": {
   "display_name": "Python 3",
   "language": "python",
   "name": "python3"
  },
  "language_info": {
   "codemirror_mode": {
    "name": "ipython",
    "version": 3
   },
   "file_extension": ".py",
   "mimetype": "text/x-python",
   "name": "python",
   "nbconvert_exporter": "python",
   "pygments_lexer": "ipython3",
   "version": "3.6.1"
  }
 },
 "nbformat": 4,
 "nbformat_minor": 2
}
